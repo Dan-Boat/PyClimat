{
 "cells": [
  {
   "cell_type": "code",
   "execution_count": 1,
   "id": "1a4ffee5",
   "metadata": {},
   "outputs": [],
   "source": [
    "import xarray as xr\n",
    "import numpy as np\n",
    "import matplotlib.pyplot as plt \n",
    "import os\n",
    "import matplotlib.colors as col\n",
    "import matplotlib as mpl \n",
    "from cartopy.util import add_cyclic_point\n",
    "from matplotlib.colors import ListedColormap, LinearSegmentedColormap\n",
    "import cartopy.crs as ccrs\n",
    "\n",
    "from pyClimat.plot_utils import cut_terrain_map\n",
    "from pyClimat.plot import plot_echam_topo"
   ]
  },
  {
   "cell_type": "code",
   "execution_count": 2,
   "id": "433b9b60",
   "metadata": {},
   "outputs": [],
   "source": [
    "# declare path to\n",
    "path_to_ctl = \"/home/dboateng/Model_output_pst/Miotopofiles/CTL_Mio_Herold/orography.nc\"\n",
    "path_to_t159 = \"/home/dboateng/Model_output_pst/Miotopofiles/CTL_Mio_Herold/jan_surf_files/\"\n",
    "path_to_mio278 = \"/home/dboateng/Model_output_pst/Miotopofiles/CTL_Mio278\"\n",
    "path_to_mio450 = \"/home/dboateng/Model_output_pst/Miotopofiles/CTL_Mio450\"\n",
    "path_to_store = \"/home/dboateng/Model_output_pst/Miotopofiles/CTL_Mio_Herold/\""
   ]
  },
  {
   "cell_type": "code",
   "execution_count": 3,
   "id": "8ada2ee7",
   "metadata": {},
   "outputs": [],
   "source": [
    "# load data \n",
    "def modify_topo_mio(filename):\n",
    "    data = xr.open_dataset(path_to_ctl)\n",
    "    \n",
    "    \n",
    "    \n",
    "    #extract the Alps and its sections\n",
    "    \n",
    "    # add western Alps coords\n",
    "    \n",
    "    maxlat, minlat, maxlon, minlon = 48, 43, 8, 1\n",
    "    minelev = 800\n",
    "    #convert lon to -180 to 180\n",
    "    #data_z = data_z.assign_coords({\"lon\": (((data_z.lon + 180) % 360) - 180)})\n",
    "    \n",
    "    lat_range = (data.lat >= minlat) & (data.lat <= maxlat)\n",
    "    lon_range = (data.lon >= minlon) & (data.lon <= maxlon)\n",
    "    data_extract = np.ones((data.dims[\"lat\"], data.dims[\"lon\"])) * data.where((lat_range & lon_range) & (data.topo >= minelev))\n",
    "    # add as mask and extract values\n",
    "    \n",
    "    data.coords[\"west_alps_mask\"] = ((\"lat\", \"lon\"), data_extract.topo.data)\n",
    "    \n",
    "    data[\"topo_modify\"] = xr.where(np.isnan(data[\"west_alps_mask\"])==False, data[\"topo\"] * 3, data[\"topo\"])\n",
    "    \n",
    "    # inrease the eastern Alps a litle to avoid steps\n",
    "    \n",
    "    maxlat, minlat, maxlon, minlon = 48, 44, 15, 8\n",
    "    minelev = 600\n",
    "    #convert lon to -180 to 180\n",
    "    #data_z = data_z.assign_coords({\"lon\": (((data_z.lon + 180) % 360) - 180)})\n",
    "    \n",
    "    lat_range = (data.lat >= minlat) & (data.lat <= maxlat)\n",
    "    lon_range = (data.lon >= minlon) & (data.lon <= maxlon)\n",
    "    data_extract = np.ones((data.dims[\"lat\"], data.dims[\"lon\"])) * data.where((lat_range & lon_range) & (data.topo >= minelev))\n",
    "    # add as mask and extract values\n",
    "    \n",
    "    data.coords[\"east_alps_mask\"] = ((\"lat\", \"lon\"), data_extract.topo.data)\n",
    "    \n",
    "    if filename == \"W2E1_orography.nc\":\n",
    "        \n",
    "        data[\"topo_modify\"] = xr.where(np.isnan(data[\"east_alps_mask\"])==False, \n",
    "                                        data[\"topo_modify\"] + data[\"topo_modify\"] * 0.3 , data[\"topo_modify\"])\n",
    "        \n",
    "    elif filename == \"W2E0_orography.nc\":\n",
    "        data[\"topo_modify\"] = xr.where(np.isnan(data[\"east_alps_mask\"])==False, \n",
    "                                        250 , data[\"topo_modify\"])\n",
    "        \n",
    "    elif filename == \"W2E1.5_orography.nc\":\n",
    "        data[\"topo_modify\"] = xr.where(np.isnan(data[\"east_alps_mask\"])==False, \n",
    "                                        data[\"topo_modify\"] + data[\"topo_modify\"] * 0.9 , data[\"topo_modify\"])\n",
    "        \n",
    "    elif filename == \"W2E2_orography.nc\":\n",
    "        data[\"topo_modify\"] = xr.where(np.isnan(data[\"east_alps_mask\"])==False, \n",
    "                                        data[\"topo_modify\"] * 3, data[\"topo_modify\"])\n",
    "    \n",
    "    #save files \n",
    "    \n",
    "    data = data.drop_vars([\"topo\", \"west_alps_mask\", \"east_alps_mask\"])\n",
    "    data = data.rename({\"topo_modify\": \"topo\"})\n",
    "    data.to_netcdf(os.path.join(path_to_store, filename), format = \"NETCDF3_CLASSIC\")"
   ]
  },
  {
   "cell_type": "code",
   "execution_count": null,
   "id": "c3d1bb8e",
   "metadata": {},
   "outputs": [],
   "source": [
    "# filenames = [\"W2E1_orography.nc\", \"W2E1.5_orography.nc\", \"W2E0_orography.nc\", \"W2E2_orography.nc\"]\n",
    "\n",
    "# for filename in filenames:\n",
    "#     print (\"running for\", filename)\n",
    "#     modify_topo_mio(filename)"
   ]
  },
  {
   "cell_type": "code",
   "execution_count": 4,
   "id": "8be38f25",
   "metadata": {},
   "outputs": [],
   "source": [
    "def read_jan_surf_oromea(path, filename):\n",
    "    # plot jan_surf \n",
    "    jan_surf = xr.open_dataset(os.path.join(path, filename))   \n",
    "    oromea = jan_surf.OROMEA\n",
    "    oromea = xr.where(jan_surf.SLM == 0, -100, oromea)\n",
    "    \n",
    "    return oromea"
   ]
  },
  {
   "cell_type": "code",
   "execution_count": 5,
   "id": "467338c3",
   "metadata": {},
   "outputs": [
    {
     "ename": "NameError",
     "evalue": "name 'plot_echam_topo' is not defined",
     "output_type": "error",
     "traceback": [
      "\u001b[0;31m---------------------------------------------------------------------------\u001b[0m",
      "\u001b[0;31mNameError\u001b[0m                                 Traceback (most recent call last)",
      "\u001b[0;32m/tmp/ipykernel_229057/1047586640.py\u001b[0m in \u001b[0;36m<module>\u001b[0;34m\u001b[0m\n\u001b[1;32m     17\u001b[0m \u001b[0;31m# plt.subplots(nrows = 1, ncols = 1, figsize=(20, 15), subplot_kw={\"projection\":projection})\u001b[0m\u001b[0;34m\u001b[0m\u001b[0;34m\u001b[0m\u001b[0m\n\u001b[1;32m     18\u001b[0m \u001b[0mpi_oromea\u001b[0m \u001b[0;34m=\u001b[0m \u001b[0mread_jan_surf_oromea\u001b[0m\u001b[0;34m(\u001b[0m\u001b[0mpath_to_t159\u001b[0m\u001b[0;34m,\u001b[0m \u001b[0;34m\"T159_PI_W1E1_jan_surf.nc\"\u001b[0m\u001b[0;34m)\u001b[0m\u001b[0;34m\u001b[0m\u001b[0;34m\u001b[0m\u001b[0m\n\u001b[0;32m---> 19\u001b[0;31m plot_echam_topo(variable=\"Elevation\", data=pi_oromea, cmap=terrain_shift, units=\"m\", \n\u001b[0m\u001b[1;32m     20\u001b[0m                 \u001b[0mvmax\u001b[0m\u001b[0;34m=\u001b[0m\u001b[0;36m4000\u001b[0m\u001b[0;34m,\u001b[0m \u001b[0mvmin\u001b[0m\u001b[0;34m=\u001b[0m\u001b[0;34m-\u001b[0m\u001b[0;36m100\u001b[0m\u001b[0;34m,\u001b[0m \u001b[0mlevels\u001b[0m\u001b[0;34m=\u001b[0m\u001b[0;36m31\u001b[0m\u001b[0;34m,\u001b[0m \u001b[0mlevel_ticks\u001b[0m\u001b[0;34m=\u001b[0m\u001b[0;36m6\u001b[0m\u001b[0;34m,\u001b[0m\u001b[0;34m\u001b[0m\u001b[0;34m\u001b[0m\u001b[0m\n\u001b[1;32m     21\u001b[0m                 \u001b[0mdomain\u001b[0m\u001b[0;34m=\u001b[0m\u001b[0;34m\"Europe\"\u001b[0m\u001b[0;34m,\u001b[0m \u001b[0mcbar\u001b[0m\u001b[0;34m=\u001b[0m\u001b[0;32mTrue\u001b[0m\u001b[0;34m,\u001b[0m \u001b[0mcbar_position\u001b[0m\u001b[0;34m=\u001b[0m \u001b[0;34m[\u001b[0m\u001b[0;36m0.35\u001b[0m\u001b[0;34m,\u001b[0m \u001b[0;36m0.05\u001b[0m\u001b[0;34m,\u001b[0m \u001b[0;36m0.25\u001b[0m\u001b[0;34m,\u001b[0m \u001b[0;36m0.02\u001b[0m\u001b[0;34m]\u001b[0m\u001b[0;34m,\u001b[0m \u001b[0mcbar_orientation\u001b[0m\u001b[0;34m=\u001b[0m\u001b[0;34m\"horizontal\"\u001b[0m\u001b[0;34m,\u001b[0m\u001b[0;34m\u001b[0m\u001b[0;34m\u001b[0m\u001b[0m\n",
      "\u001b[0;31mNameError\u001b[0m: name 'plot_echam_topo' is not defined"
     ]
    },
    {
     "data": {
      "image/png": "[encoded data removed]",
      "text/plain": [
       "<Figure size 1800x1224 with 6 Axes>"
      ]
     },
     "metadata": {
      "needs_background": "light"
     },
     "output_type": "display_data"
    }
   ],
   "source": [
    "projection = ccrs.EuroPP()\n",
    "fig, ((ax1,ax2,ax3), (ax4, ax5,ax6)) = plt.subplots(nrows = 2, ncols = 3, figsize=(25, 17), \n",
    "                                                    subplot_kw={\"projection\": projection})\n",
    "\n",
    "    \n",
    "levels = [i for i in range(-100, 4000, 100)]\n",
    "terrain_new = mpl.cm.get_cmap(\"terrain\", 256)\n",
    "terrain_adjust = ListedColormap(terrain_new(np.linspace(0.23, 1, 256)))\n",
    "new_colors = terrain_adjust(np.linspace(0,1,256))\n",
    "\n",
    "blue = np.array([135/256, 206/256, 250/256, 1])\n",
    "new_colors[:1, :] = blue\n",
    "terrain_shift = ListedColormap(new_colors)\n",
    "\n",
    "norm_new = col.BoundaryNorm(levels, ncolors=terrain_shift.N, clip=True)\n",
    "\n",
    "# plt.subplots(nrows = 1, ncols = 1, figsize=(20, 15), subplot_kw={\"projection\":projection})\n",
    "pi_oromea = read_jan_surf_oromea(path_to_t159, \"T159_PI_W1E1_jan_surf.nc\")\n",
    "plot_echam_topo(variable=\"Elevation\", data=pi_oromea, cmap=terrain_shift, units=\"m\", \n",
    "                vmax=4000, vmin=-100, levels=31, level_ticks=6,\n",
    "                domain=\"Europe\", cbar=True, cbar_position= [0.35, 0.05, 0.25, 0.02], cbar_orientation=\"horizontal\",\n",
    "                projection=projection, norm=norm_new, plot_coastlines=True, plot_borders=False, ax=ax1, \n",
    "                title=\"[A] PI-W1E1\", bottom_labels=False, fig=fig)\n",
    "\n",
    "miow1e1_oromea = read_jan_surf_oromea(path_to_t159, \"T159_MIO_W1E1_jan_surf_Herold.nc\")\n",
    "\n",
    "plot_echam_topo(variable=\"Elevation\", data=miow1e1_oromea, cmap=terrain_shift, units=\"m\", \n",
    "                vmax=4000, vmin=-100, levels=31, level_ticks=6,\n",
    "                domain=\"Europe\", cbar=False, projection=projection, norm=norm_new, plot_coastlines=True, plot_borders=False, \n",
    "                ax=ax2, title=\"[B] MIO-W1E1\", bottom_labels=False, left_labels=False)\n",
    "\n",
    "miow2e2_oromea = read_jan_surf_oromea(path_to_t159, \"T159_MIO_W2E2_jan_surf_Herold.nc\")\n",
    "\n",
    "plot_echam_topo(variable=\"Elevation\", data=miow2e2_oromea, cmap=terrain_shift, units=\"m\", \n",
    "                vmax=4000, vmin=-100, levels=31, level_ticks=6,\n",
    "                domain=\"Europe\", cbar=False, projection=projection, norm=norm_new, plot_coastlines=True, plot_borders=False, \n",
    "                ax=ax3, title=\"[C] MIO-W2E2\", bottom_labels=False, left_labels=False)\n",
    "\n",
    "miow2e1_oromea = read_jan_surf_oromea(path_to_t159, \"T159_MIO_W2E1_jan_surf_Herold.nc\")\n",
    "\n",
    "plot_echam_topo(variable=\"Elevation\", data=miow2e1_oromea, cmap=terrain_shift, units=\"m\", \n",
    "                vmax=4000, vmin=-100, levels=31, level_ticks=6,\n",
    "                domain=\"Europe\", cbar=False, projection=projection, norm=norm_new, plot_coastlines=True, plot_borders=False, \n",
    "                ax=ax4, title=\"[D] MIO-W2E1\", bottom_labels=True, left_labels=True)\n",
    "\n",
    "miow2e1_5_oromea = read_jan_surf_oromea(path_to_t159, \"T159_MIO_W2E1.5_jan_surf_Herold.nc\")\n",
    "\n",
    "plot_echam_topo(variable=\"Elevation\", data=miow2e1_5_oromea, cmap=terrain_shift, units=\"m\", \n",
    "                vmax=4000, vmin=-100, levels=31, level_ticks=6,\n",
    "                domain=\"Europe\", cbar=False, projection=projection, norm=norm_new, plot_coastlines=True, plot_borders=False, \n",
    "                ax=ax5, title=\"[E] MIO-W2E1.5\", bottom_labels=True, left_labels=False)\n",
    "\n",
    "miow2e0_oromea = read_jan_surf_oromea(path_to_t159, \"T159_MIO_W2E0_jan_surf_Herold.nc\")\n",
    "\n",
    "plot_echam_topo(variable=\"Elevation\", data=miow2e0_oromea, cmap=terrain_shift, units=\"m\", \n",
    "                vmax=4000, vmin=-100, levels=31, level_ticks=6,\n",
    "                domain=\"Europe\", cbar=False, projection=projection, norm=norm_new, plot_coastlines=True, plot_borders=False, \n",
    "                ax=ax6, title=\"[F] MIO-W2E0\", bottom_labels=True, left_labels=False)\n",
    "\n",
    "fig.canvas.draw()   # the only way to apply tight_layout to matplotlib and cartopy is to apply canvas firt \n",
    "plt.tight_layout() \n",
    "plt.subplots_adjust(left=0.05, right=0.89, top=0.95, bottom=0.10, wspace=0.001, hspace=0.06)\n",
    "plt.show()\n",
    "#plt.savefig(os.path.join(path_to_store, \"topography_mio_herold.png\"), format= \"png\", bbox_inches=\"tight\", dpi=300)"
   ]
  },
  {
   "cell_type": "code",
   "execution_count": null,
   "id": "99e0dd27",
   "metadata": {},
   "outputs": [],
   "source": []
  }
 ],
 "metadata": {
  "kernelspec": {
   "display_name": "Python 3 (ipykernel)",
   "language": "python",
   "name": "python3"
  },
  "language_info": {
   "codemirror_mode": {
    "name": "ipython",
    "version": 3
   },
   "file_extension": ".py",
   "mimetype": "text/x-python",
   "name": "python",
   "nbconvert_exporter": "python",
   "pygments_lexer": "ipython3",
   "version": "3.9.7"
  }
 },
 "nbformat": 4,
 "nbformat_minor": 5
}
